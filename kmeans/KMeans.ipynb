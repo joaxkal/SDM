{
  "nbformat": 4,
  "nbformat_minor": 0,
  "metadata": {
    "kernelspec": {
      "name": "python3",
      "display_name": "Python 3"
    },
    "colab": {
      "name": "KMeans.ipynb",
      "provenance": [],
      "collapsed_sections": []
    }
  },
  "cells": [
    {
      "cell_type": "code",
      "metadata": {
        "id": "Xl4SWCaeIiMv",
        "colab_type": "code",
        "colab": {}
      },
      "source": [
        "from pydrive.auth import GoogleAuth\n",
        "from pydrive.drive import GoogleDrive\n",
        "from google.colab import auth\n",
        "from oauth2client.client import GoogleCredentials\n",
        "auth.authenticate_user()\n",
        "gauth = GoogleAuth()\n",
        "gauth.credentials = GoogleCredentials.get_application_default()\n",
        "drive = GoogleDrive(gauth)"
      ],
      "execution_count": 0,
      "outputs": []
    },
    {
      "cell_type": "code",
      "metadata": {
        "id": "1Rabg-syIbOr",
        "colab_type": "code",
        "colab": {}
      },
      "source": [
        "import pandas as pd\n",
        "import numpy as np\n",
        "from random import randint, uniform\n",
        "from sklearn.manifold import TSNE\n",
        "from sklearn.decomposition import PCA\n",
        "import matplotlib.pyplot as plt\n",
        "from sklearn.neighbors import LocalOutlierFactor, NearestNeighbors\n",
        "from sklearn.metrics.cluster import normalized_mutual_info_score\n",
        "from datetime import datetime"
      ],
      "execution_count": 0,
      "outputs": []
    },
    {
      "cell_type": "code",
      "metadata": {
        "id": "Kn5WX4MTIzCL",
        "colab_type": "code",
        "outputId": "05c5996c-3d77-40f3-c375-252729fa2af1",
        "colab": {
          "base_uri": "https://localhost:8080/",
          "height": 56
        }
      },
      "source": [
        "#load the HTRU_2 dataset and save true class labels as separate array\n",
        "file_list = drive.ListFile(\n",
        "    {'q': \"'1y2Ypp16D8hE959IrKCADOvpSHz4Tu2Mz' in parents and trashed=false\"}).GetList()\n",
        "downloaded = drive.CreateFile({'id':file_list[0]['id']})   \n",
        "downloaded.GetContentFile(file_list[0]['originalFilename'])  \n",
        "data_htru=pd.read_csv(file_list[0]['originalFilename'],header = None)[0:20]\n",
        "data_htru.insert(0, 'id', data_htru.index)\n",
        "data_htru.columns=[str(column) for column in data_htru.columns.values]\n",
        "true_htru=data_htru.iloc[:,-1]\n",
        "data_htru=data_htru.drop(columns='8')\n",
        "data_htru.head()\n",
        "\n",
        "'''data_htru=pd.DataFrame(\n",
        "    [(1,1,1.5), (2,1,4.5), (3,2,1.5), (4,2,3.5), (5,3,2.5), (6,5,6), (7, 7, 8), (8, 3,7), (9, 4,3)],\n",
        "     columns=['id','x', 'y']) \n",
        "data_htru.head(6)\n",
        "data_htru.head()\n",
        "'''"
      ],
      "execution_count": 205,
      "outputs": [
        {
          "output_type": "execute_result",
          "data": {
            "text/plain": [
              "\"data_htru=pd.DataFrame(\\n    [(1,1,1.5), (2,1,4.5), (3,2,1.5), (4,2,3.5), (5,3,2.5), (6,5,6), (7, 7, 8), (8, 3,7), (9, 4,3)],\\n     columns=['id','x', 'y']) \\ndata_htru.head(6)\\ndata_htru.head()\\n\""
            ]
          },
          "metadata": {
            "tags": []
          },
          "execution_count": 205
        }
      ]
    },
    {
      "cell_type": "code",
      "metadata": {
        "colab_type": "code",
        "id": "lMHPsA_dYwqT",
        "colab": {}
      },
      "source": [
        "class Kmeans:\n",
        "    def __init__(self, k, data):\n",
        "        self.k=k\n",
        "        self.original_data = data.copy()\n",
        "        \n",
        "        # initialize k centroids with mock values\n",
        "        self.mock_centroids=pd.DataFrame(\n",
        "            np.full((self.k,self.original_data.shape[1]),-1.0),\n",
        "            columns=self.original_data.columns.values)\n",
        "        self.mock_centroids['id']=np.arange(1,self.k+1)\n",
        "        \n",
        "        # assign points to mock clusters\n",
        "        self.original_data['k']=-1\n",
        "        self.original_data['distance']=-1\n",
        "        \n",
        "        # add suffixes to columns\n",
        "        self.original_data.columns += '_d'\n",
        "        self.mock_centroids.columns += '_c'\n",
        "        \n",
        "        #create key to allow for join to get cartesian product\n",
        "        self.original_data['key']=1\n",
        "        self.mock_centroids['key']=1\n",
        "        \n",
        "        # copy dataframes\n",
        "        self.data=self.original_data.copy()\n",
        "        self.centroids = self.mock_centroids.copy()\n",
        "\n",
        "    def assign_centroids(self, dataframe, centroids, i):\n",
        "        # compute euclidan distance for all combinations       \n",
        "        df = dataframe.merge(centroids, how='outer')\n",
        "\n",
        "        df['distance_d'] = np.linalg.norm(\n",
        "            df[self.data.columns.values.tolist()[1:-3]].values\n",
        "            -df[self.centroids.columns.values.tolist()[1:-1]].values, axis=1)\n",
        "        \n",
        "        # assign centroid that is closest to the record\n",
        "        df=df.sort_values(['id_d','distance_d']).drop_duplicates(['id_d'],keep='first')\n",
        "        df.reset_index(inplace=True)\n",
        "        df['k_d']=df['id_c']\n",
        "        df=df[self.data.columns.values.tolist()].copy()\n",
        "        return df\n",
        "    \n",
        "    \n",
        "    def calculate_centroids(self):\n",
        "        # calculate position of centroids\n",
        "        cols=self.centroids.columns\n",
        "        self.centroids=self.data.drop(['id_d','distance_d'], axis=1).groupby(['k_d']).agg(['mean'])\n",
        "        self.centroids.reset_index(inplace=True) \n",
        "        self.centroids.columns=cols\n",
        "    \n",
        "    \n",
        "    def initialize_clusters(self, method='forgy'):\n",
        "        '''\n",
        "        Names of methods taken from article:\n",
        "        A comparative study of efficient initialization methods for the k-means\n",
        "        clustering algorithm\n",
        "        \n",
        "        METHODS:\n",
        "        \n",
        "        macqueen - randomly selected points. k distinct cases of the data are \n",
        "        randomly selected to be the initial centres. The second method chooses \n",
        "        the centers randomly from the data points. The rationale behind this \n",
        "        method is that random selection is likely to pick points from dense \n",
        "        regions,i.e. points that are good candidates to be centers. \n",
        "        \n",
        "        forgy- assigns each point to one of theKclusters uniformly at random. \n",
        "        The centers are then given by the centroids of these initial clusters.\n",
        "        \n",
        "        kmpp - random farthest points, or k-means++. \n",
        "        The first centre is selected as a random case from the dataset. \n",
        "        The 2nd centre is selected also randomly, but the probability of \n",
        "        selection of a case is proportional to the distance (square euclidean) \n",
        "        of it to that (1st) centre. The 3rd centre is selected also randomly \n",
        "        with the probability of selection proportional to the distance of a case\n",
        "        to the nearest of those two centres, - and so on. \n",
        "        (Source: Arthur, D., Vassilvitskii, S.. K-means++: the advantages of \n",
        "        careful seeding. //Proceedings of the 18th annual ACM-SIAM symposium on \n",
        "        Discrete algorithms. 2007., 1027–1035.)\n",
        "        \n",
        "        robin - The ROBIN approach to seed selection is essentially tied to the \n",
        "        concept of avoiding outliers as seeds. For this ROBIN first computes \n",
        "        the degree to which a point is an outlier, which in turn must consider \n",
        "        the local density of the neighboring points. Outliers are those points \n",
        "        whose density is very different compared to neighbor densities. \n",
        "        In essence the local outlier measure automatically takes into account \n",
        "        variable density regions and variable size clusters. The key aim here \n",
        "        is to avoid the computation of outlier measure for each point in \n",
        "        the dataset, which would yield a worst case method, but rather the \n",
        "        challenge is in keeping the complexity very close to linear in n.\n",
        "        (Source: Robust partitional clustering by outlier and density \n",
        "        insensitive seeding)\n",
        "        '''\n",
        "        #reset data and centroids\n",
        "        self.data=self.original_data.copy()\n",
        "        self.centroids=self.mock_centroids.copy()\n",
        "        \n",
        "        if method=='macqueen':\n",
        "            \n",
        "            # centroids as random data points\n",
        "            print(self.data.sample(n=self.k))\n",
        "            #samples=self.data.sample(n=self.k)\n",
        "            samples=self.data[0:self.k+1].copy()\n",
        "            samples.reset_index(inplace=True)\n",
        "            for i in range(0, self.k):\n",
        "              for col in self.centroids.columns.values.tolist()[1:-1]:\n",
        "                  self.centroids.at[i, col]=samples.at[i, col[:-1]+'d']\n",
        "                \n",
        "        \n",
        "        if method == 'forgy':\n",
        "            # assign points to random clusters (no cluster can be empty)\n",
        "            while any(init_k not in self.data['k_d'].values \n",
        "                      for init_k in range(1,self.k+1)): \n",
        "                self.data['k_d']=self.data['k_d'].apply(\n",
        "                    lambda x: randint(1,self.k))\n",
        "                \n",
        "            #calculate initial centroids       \n",
        "            self.calculate_centroids()\n",
        "                \n",
        "        if method == \"kmpp\":\n",
        "            df = self.data.copy()\n",
        "            for i in range(0,self.k):\n",
        "                if i == 0:\n",
        "                    # Take one center c1, chosen uniformly at random from X .\n",
        "                    initial=randint(0,self.k)\n",
        "                    for col in self.centroids.columns.values.tolist()[1:-1]:\n",
        "                        self.centroids.at[i,col] = df.at[initial,col[:-1]+'d']      \n",
        "                            \n",
        "                else:\n",
        "                    # Take a new center ci choosing x ∈ X with probability \n",
        "                    # D(x) / sum x∈X D(x)\n",
        "                    df=self.assign_centroids(df, self.centroids.iloc[:i+1,:], i)\n",
        "                    \n",
        "                    # calculate square distance\n",
        "                    df['distance_d']=df['distance_d']**2\n",
        "                    sum_of_distance=df['distance_d'].sum()\n",
        "                    df['probability']=df['distance_d']/sum_of_distance\n",
        "                    \n",
        "                    # choose  new centroid with probability \n",
        "                    # D^2(x) / sum  x∈X D^2(x)\n",
        "                    select_random=uniform(0,1)\n",
        "                    cumulant=0\n",
        "                    for j in range(df.shape[0]):\n",
        "                        cumulant = cumulant + df.at[j, 'probability']\n",
        "                        if select_random <= cumulant:\n",
        "                            for col in self.centroids.columns.values.tolist()[1:-1]:\n",
        "                                self.centroids.at[i, col] = df.at[j,col[:-1]+'d']\n",
        "                            break\n",
        "\n",
        "            \n",
        "        if method=='robin':\n",
        "            df=self.data.copy()\n",
        "            clf = LocalOutlierFactor(n_neighbors=3, novelty=True)\n",
        "            \n",
        "            for i in range(0,self.k):\n",
        "                if i==0:\n",
        "                    r=self.data.sample(n=1)\n",
        "                    df['robin_dist']= np.linalg.norm(\n",
        "                        df[self.data.columns.values.tolist()[1:-3]].values\n",
        "                        -r[self.data.columns.values.tolist()[1:-3]].values,axis=1)\n",
        "                    df_sorted=df.sort_values('robin_dist', ascending=False)\n",
        "                    df_sorted.drop(columns=['k_d','distance_d','key','robin_dist'], inplace=True)\n",
        "                    df_sorted.reset_index(drop=True,inplace=True) \n",
        "                else:\n",
        "                    df=self.assign_centroids(df, self.centroids.iloc[:i+1,:], i)\n",
        "                    df_sorted=df.sort_values('distance_d', ascending=False)\n",
        "                    df_sorted.drop(columns=['k_d','distance_d','key'], inplace=True)\n",
        "                    df_sorted.reset_index(drop=True,inplace=True)\n",
        "                      \n",
        "                for index, row in df_sorted.iloc[:,1:].iterrows():\n",
        "                    row=pd.DataFrame(row).T.values\n",
        "                    clf.fit(df_sorted.iloc[:,1:].drop(index=index))\n",
        "                    LOF=clf.predict(row)\n",
        "                    if LOF[0]==1:\n",
        "                        for col in self.centroids.columns.values.tolist()[1:-1]:\n",
        "                            self.centroids.at[i,col] = df_sorted.at[index,col[:-1]+'d']\n",
        "                        break\n",
        "\n",
        "                               \n",
        "    def plot_clusters(self, dataframe, centroids, i):\n",
        "\n",
        "        #select subset of dataframe with features\n",
        "        X = dataframe.copy().drop(columns=['id_d','k_d','distance_d','key'])\n",
        "        y = dataframe['k_d'].copy().values\n",
        "        \n",
        "        X_c = centroids.copy().drop(columns=['id_c']).values\n",
        "        y_c = centroids['id_c'].copy().values\n",
        "        \n",
        "        if X.shape[1] == 2:\n",
        "            method = 'Plot'\n",
        "            X_reduced_pca = X.values\n",
        "        else:\n",
        "            method = 'PCA'\n",
        "            # calculate PCA Implementation of dim reducition\n",
        "            X_reduced_pca = PCA(n_components=2, random_state=42).fit_transform(X.values)\n",
        "\n",
        "        #plotting\n",
        "        f, (ax1) = plt.subplots(1, 1, figsize=(6,6))\n",
        "        f.suptitle('Iteration ' + str(i), fontsize=14)\n",
        "\n",
        "        # scatter plot\n",
        "        ax1.scatter(X_reduced_pca[:,0], X_reduced_pca[:,1], \n",
        "                    c=y, cmap='rainbow', linewidths=4)\n",
        "        ax1.scatter(X_c[:,0], X_c[:,1], c=y_c, marker='x', \n",
        "                    s=150, cmap='rainbow', linewidths=10)\n",
        "        ax1.set_title(method, fontsize=14)\n",
        "        ax1.grid(True)\n",
        "\n",
        "        plt.show()\n",
        "        \n",
        "    \n",
        "    def Lloyd2(self, make_plots = False):\n",
        "\n",
        "\n",
        "        i=0\n",
        "        while True:\n",
        "            mx_d=self.data.copy().as_matrix()\n",
        "            mx_c=self.centroids.copy().as_matrix()\n",
        "            print('ITERATION', i, datetime.now())\n",
        "            if make_plots:\n",
        "                self.plot_clusters(self.data, self.centroids, i)\n",
        "            \n",
        "            clusters_before = self.data['k_d'].copy().values\n",
        "\n",
        "            i+=1            \n",
        "            \n",
        "            j=0\n",
        "            for row_d in mx_d:\n",
        "              min=99999\n",
        "              for row_c in mx_c:\n",
        "                  dist = np.linalg.norm(row_d[1:-3] - row_c[1:-1])\n",
        "                  if dist < min:\n",
        "                     min = dist\n",
        "                     k = row_c[0]\n",
        "              self.data.at[j,'k_d'] = k\n",
        "              j=j+1\n",
        "            \n",
        "            clusters_after = self.data['k_d'].copy().values\n",
        "\n",
        "            #checking if a cluster disapeared in the process (erronous behaviour)\n",
        "            # TODO: add exception\n",
        "            if len(self.data.k_d.unique()) != self.k:\n",
        "                print('Cluster disapeared, break. Temporary solution.')\n",
        "                raise Exception\n",
        "\n",
        "            #check if algorithm converged\n",
        "            if all(c_before == c_after for c_before, c_after \n",
        "                   in zip(clusters_before,clusters_after)):\n",
        "                break\n",
        "            \n",
        "            # update centroids\n",
        "            self.calculate_centroids()\n",
        "\n",
        "    def Lloyd(self, make_plots = False):\n",
        "        converged=False\n",
        "        i=0\n",
        "        while not converged:\n",
        "            if make_plots:\n",
        "              self.plot_clusters(self.data, self.centroids, i)\n",
        "            print(i)\n",
        "            \n",
        "            i+=1\n",
        "            clusters_before = self.data['k_d'].values\n",
        "            self.data=self.assign_centroids(self.data, self.centroids, i)\n",
        "            clusters_after = self.data['k_d'].values\n",
        "            \n",
        "            #check if algorithm converged\n",
        "            if all(c_before == c_after for c_before, c_after \n",
        "                   in zip(clusters_before,clusters_after)):\n",
        "                converged = True\n",
        "            \n",
        "            # update centroids\n",
        "            self.calculate_centroids()\n",
        "            \n",
        "            #checking if a cluster disapeared in the process (erronous behaviour)\n",
        "            # TODO: add exception\n",
        "            if len(self.data.k_d.unique()) != self.k:\n",
        "                print('Cluster disapeared, break. Temporary solution.')\n",
        "                raise Exception\n",
        "            \n",
        "\n",
        "    \n",
        "    def MacQueen(self, make_plots = False):\n",
        "        converged=False\n",
        "        i=0\n",
        "\n",
        "        while True:\n",
        "            print('ITERATION', i, datetime.now())\n",
        "\n",
        "            mx_d=self.data.as_matrix()\n",
        "            mx_c=self.centroids.as_matrix()\n",
        "            if make_plots:\n",
        "                self.plot_clusters(self.data, self.centroids, i)\n",
        "            \n",
        "            i+=1            \n",
        "            clusters_before = self.data['k_d'].copy().values\n",
        "            \n",
        "            j=0\n",
        "            for row_d in mx_d:\n",
        "              min=99999\n",
        "              for row_c in mx_c:\n",
        "                  dist = np.linalg.norm(row_d[1:-3] - row_c[1:-1])\n",
        "                  if dist < min:\n",
        "                     min = dist\n",
        "                     k = row_c[0]\n",
        "              self.data.at[j,'k_d'] = k\n",
        "\n",
        "              \n",
        "              self.calculate_centroids()\n",
        "              j=j+1\n",
        "            \n",
        "            print('iterrows end', datetime.now())\n",
        "\n",
        "            \"\"\"\n",
        "            ['id_d', '0_d', '1_d', '2_d', '3_d', '4_d', '5_d', '6_d', '7_d', 'k_d',\n",
        "            'distance_d', 'key', 'id_c', '0_c', '1_c', '2_c', '3_c', '4_c', '5_c',\n",
        "            '6_c', '7_c'],\n",
        "            -\n",
        "            'id_d', '0_d', '1_d', '2_d', '3_d', '4_d', '5_d', '6_d', '7_d', 'k_d',\n",
        "            'distance_d', 'key'],\n",
        "            -\n",
        "            'id_c', '0_c', '1_c', '2_c', '3_c', '4_c', '5_c', '6_c', '7_c', 'key']\n",
        "            \"\"\"\n",
        "            #checking if a cluster disapeared in the process (erronous behaviour)\n",
        "            # TODO: add exception\n",
        "            if len(self.data.k_d.unique()) != self.k:\n",
        "                print('Cluster disapeared, break. This is a temporary solution.', self.data.k_d.unique(), self.k)\n",
        "                raise Exception\n",
        "\n",
        "            clusters_after = self.data['k_d'].copy().values\n",
        "            \n",
        "            #check if algorithm converged\n",
        "            if all(c_before == c_after for c_before, c_after in zip(clusters_before,clusters_after)):\n",
        "                break\n",
        "                \n",
        "\n",
        "    "
      ],
      "execution_count": 0,
      "outputs": []
    },
    {
      "cell_type": "code",
      "metadata": {
        "id": "MKtexYjkIbPQ",
        "colab_type": "code",
        "colab": {}
      },
      "source": [
        "ex4 = Kmeans(3,data_htru)\n",
        "ex4.initialize_clusters(method='macqueen')\n",
        "ex4.Lloyd(make_plots=True)"
      ],
      "execution_count": 0,
      "outputs": []
    },
    {
      "cell_type": "code",
      "metadata": {
        "scrolled": false,
        "id": "Y74S4cmlIbPY",
        "colab_type": "code",
        "colab": {}
      },
      "source": [
        "ex4 = Kmeans(3,data_htru)\n",
        "ex4.initialize_clusters(method='macqueen')\n",
        "ex4.Lloyd2(make_plots=True)\n"
      ],
      "execution_count": 0,
      "outputs": []
    },
    {
      "cell_type": "code",
      "metadata": {
        "id": "heY_CUdiEjD9",
        "colab_type": "code",
        "colab": {
          "base_uri": "https://localhost:8080/",
          "height": 1000
        },
        "outputId": "d7ec5238-0481-4a4f-8a18-294e3ec04074"
      },
      "source": [
        "ex4 = Kmeans(3,data_htru)\n",
        "ex4.initialize_clusters(method='macqueen')\n",
        "ex4.MacQueen(make_plots=True)\n"
      ],
      "execution_count": 214,
      "outputs": [
        {
          "output_type": "stream",
          "text": [
            "    id_d         0_d        1_d       2_d  ...         7_d  k_d  distance_d  key\n",
            "19    19   99.367188  41.572202  1.547197  ...    3.662680   -1          -1    1\n",
            "9      9  107.257812  39.496488  0.465882  ...   57.784738   -1          -1    1\n",
            "6      6  119.484375  48.765059  0.031460  ...  479.756567   -1          -1    1\n",
            "\n",
            "[3 rows x 12 columns]\n",
            "ITERATION 0 2020-03-19 21:46:55.071298\n"
          ],
          "name": "stdout"
        },
        {
          "output_type": "stream",
          "text": [
            "/usr/local/lib/python3.6/dist-packages/ipykernel_launcher.py:289: FutureWarning: Method .as_matrix will be removed in a future version. Use .values instead.\n",
            "/usr/local/lib/python3.6/dist-packages/ipykernel_launcher.py:290: FutureWarning: Method .as_matrix will be removed in a future version. Use .values instead.\n"
          ],
          "name": "stderr"
        },
        {
          "output_type": "display_data",
          "data": {
            "image/png": "[encoded data removed]",
            "text/plain": [
              "<Figure size 432x432 with 1 Axes>"
            ]
          },
          "metadata": {
            "tags": []
          }
        },
        {
          "output_type": "stream",
          "text": [
            "iterrows end 2020-03-19 21:46:55.797582\n",
            "ITERATION 1 2020-03-19 21:46:55.798330\n"
          ],
          "name": "stdout"
        },
        {
          "output_type": "stream",
          "text": [
            "/usr/local/lib/python3.6/dist-packages/ipykernel_launcher.py:289: FutureWarning: Method .as_matrix will be removed in a future version. Use .values instead.\n",
            "/usr/local/lib/python3.6/dist-packages/ipykernel_launcher.py:290: FutureWarning: Method .as_matrix will be removed in a future version. Use .values instead.\n"
          ],
          "name": "stderr"
        },
        {
          "output_type": "display_data",
          "data": {
            "image/png": "[encoded data removed]",
            "text/plain": [
              "<Figure size 432x432 with 1 Axes>"
            ]
          },
          "metadata": {
            "tags": []
          }
        },
        {
          "output_type": "stream",
          "text": [
            "iterrows end 2020-03-19 21:46:56.379407\n",
            "ITERATION 2 2020-03-19 21:46:56.380149\n"
          ],
          "name": "stdout"
        },
        {
          "output_type": "stream",
          "text": [
            "/usr/local/lib/python3.6/dist-packages/ipykernel_launcher.py:289: FutureWarning: Method .as_matrix will be removed in a future version. Use .values instead.\n",
            "/usr/local/lib/python3.6/dist-packages/ipykernel_launcher.py:290: FutureWarning: Method .as_matrix will be removed in a future version. Use .values instead.\n"
          ],
          "name": "stderr"
        },
        {
          "output_type": "display_data",
          "data": {
            "image/png": "[encoded data removed]",
            "text/plain": [
              "<Figure size 432x432 with 1 Axes>"
            ]
          },
          "metadata": {
            "tags": []
          }
        },
        {
          "output_type": "stream",
          "text": [
            "iterrows end 2020-03-19 21:46:56.961633\n",
            "ITERATION 3 2020-03-19 21:46:56.962321\n"
          ],
          "name": "stdout"
        },
        {
          "output_type": "stream",
          "text": [
            "/usr/local/lib/python3.6/dist-packages/ipykernel_launcher.py:289: FutureWarning: Method .as_matrix will be removed in a future version. Use .values instead.\n",
            "/usr/local/lib/python3.6/dist-packages/ipykernel_launcher.py:290: FutureWarning: Method .as_matrix will be removed in a future version. Use .values instead.\n"
          ],
          "name": "stderr"
        },
        {
          "output_type": "display_data",
          "data": {
            "image/png": "[encoded data removed]",
            "text/plain": [
              "<Figure size 432x432 with 1 Axes>"
            ]
          },
          "metadata": {
            "tags": []
          }
        },
        {
          "output_type": "stream",
          "text": [
            "iterrows end 2020-03-19 21:46:57.540001\n"
          ],
          "name": "stdout"
        }
      ]
    },
    {
      "cell_type": "code",
      "metadata": {
        "id": "9jEVmRbjw3Hy",
        "colab_type": "code",
        "colab": {}
      },
      "source": [
        ""
      ],
      "execution_count": 0,
      "outputs": []
    }
  ]
}