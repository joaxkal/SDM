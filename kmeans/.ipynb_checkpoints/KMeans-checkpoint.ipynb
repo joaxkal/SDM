{
 "cells": [
  {
   "cell_type": "code",
   "execution_count": 32,
   "metadata": {},
   "outputs": [],
   "source": [
    "import pandas as pd\n",
    "import numpy as np\n",
    "from random import randint, uniform\n",
    "from sklearn.manifold import TSNE\n",
    "from sklearn.decomposition import PCA\n",
    "import matplotlib.pyplot as plt"
   ]
  },
  {
   "cell_type": "code",
   "execution_count": 33,
   "metadata": {},
   "outputs": [
    {
     "data": {
      "text/html": [
       "<div>\n",
       "<style scoped>\n",
       "    .dataframe tbody tr th:only-of-type {\n",
       "        vertical-align: middle;\n",
       "    }\n",
       "\n",
       "    .dataframe tbody tr th {\n",
       "        vertical-align: top;\n",
       "    }\n",
       "\n",
       "    .dataframe thead th {\n",
       "        text-align: right;\n",
       "    }\n",
       "</style>\n",
       "<table border=\"1\" class=\"dataframe\">\n",
       "  <thead>\n",
       "    <tr style=\"text-align: right;\">\n",
       "      <th></th>\n",
       "      <th>id</th>\n",
       "      <th>x</th>\n",
       "      <th>y</th>\n",
       "    </tr>\n",
       "  </thead>\n",
       "  <tbody>\n",
       "    <tr>\n",
       "      <th>0</th>\n",
       "      <td>1</td>\n",
       "      <td>1.33</td>\n",
       "      <td>2.5</td>\n",
       "    </tr>\n",
       "    <tr>\n",
       "      <th>1</th>\n",
       "      <td>2</td>\n",
       "      <td>3.33</td>\n",
       "      <td>4.0</td>\n",
       "    </tr>\n",
       "  </tbody>\n",
       "</table>\n",
       "</div>"
      ],
      "text/plain": [
       "   id     x    y\n",
       "0   1  1.33  2.5\n",
       "1   2  3.33  4.0"
      ]
     },
     "execution_count": 33,
     "metadata": {},
     "output_type": "execute_result"
    }
   ],
   "source": [
    "centroids=pd.DataFrame([(1,1.33,2.5),(2,3.33, 4)], columns=['id','x', 'y'])\n",
    "centroids"
   ]
  },
  {
   "cell_type": "code",
   "execution_count": 34,
   "metadata": {},
   "outputs": [
    {
     "data": {
      "text/html": [
       "<div>\n",
       "<style scoped>\n",
       "    .dataframe tbody tr th:only-of-type {\n",
       "        vertical-align: middle;\n",
       "    }\n",
       "\n",
       "    .dataframe tbody tr th {\n",
       "        vertical-align: top;\n",
       "    }\n",
       "\n",
       "    .dataframe thead th {\n",
       "        text-align: right;\n",
       "    }\n",
       "</style>\n",
       "<table border=\"1\" class=\"dataframe\">\n",
       "  <thead>\n",
       "    <tr style=\"text-align: right;\">\n",
       "      <th></th>\n",
       "      <th>id</th>\n",
       "      <th>x</th>\n",
       "      <th>y</th>\n",
       "    </tr>\n",
       "  </thead>\n",
       "  <tbody>\n",
       "    <tr>\n",
       "      <th>0</th>\n",
       "      <td>1</td>\n",
       "      <td>1</td>\n",
       "      <td>1.5</td>\n",
       "    </tr>\n",
       "    <tr>\n",
       "      <th>1</th>\n",
       "      <td>2</td>\n",
       "      <td>1</td>\n",
       "      <td>4.5</td>\n",
       "    </tr>\n",
       "    <tr>\n",
       "      <th>2</th>\n",
       "      <td>3</td>\n",
       "      <td>2</td>\n",
       "      <td>1.5</td>\n",
       "    </tr>\n",
       "    <tr>\n",
       "      <th>3</th>\n",
       "      <td>4</td>\n",
       "      <td>2</td>\n",
       "      <td>3.5</td>\n",
       "    </tr>\n",
       "    <tr>\n",
       "      <th>4</th>\n",
       "      <td>5</td>\n",
       "      <td>3</td>\n",
       "      <td>2.5</td>\n",
       "    </tr>\n",
       "    <tr>\n",
       "      <th>5</th>\n",
       "      <td>6</td>\n",
       "      <td>5</td>\n",
       "      <td>6.0</td>\n",
       "    </tr>\n",
       "  </tbody>\n",
       "</table>\n",
       "</div>"
      ],
      "text/plain": [
       "   id  x    y\n",
       "0   1  1  1.5\n",
       "1   2  1  4.5\n",
       "2   3  2  1.5\n",
       "3   4  2  3.5\n",
       "4   5  3  2.5\n",
       "5   6  5  6.0"
      ]
     },
     "execution_count": 34,
     "metadata": {},
     "output_type": "execute_result"
    }
   ],
   "source": [
    "data=pd.DataFrame([(1,1,1.5),\n",
    "                   (2,1,4.5),\n",
    "                   (3,2,1.5),\n",
    "                   (4,2,3.5),\n",
    "                   (5,3,2.5),\n",
    "                   (6,5,6)], columns=['id','x', 'y'])\n",
    "data"
   ]
  },
  {
   "cell_type": "code",
   "execution_count": 147,
   "metadata": {},
   "outputs": [],
   "source": [
    "class Kmeans:\n",
    "    def __init__(self, k, data):\n",
    "        self.k=k\n",
    "        self.initial_data = data.copy()\n",
    "        \n",
    "        # initialize k centroids with mock values\n",
    "        self.initial_centroids=pd.DataFrame(\n",
    "            np.full((self.k,self.initial_data.shape[1]),-1.0),\n",
    "            columns=self.initial_data.columns.values)\n",
    "        self.initial_centroids['id']=np.arange(1,self.k+1)\n",
    "        \n",
    "        # assign points to mock clusters\n",
    "        self.initial_data['k']=-1\n",
    "        self.initial_data['distance']=-1\n",
    "        \n",
    "        self.initial_data.columns += '_d'\n",
    "        self.initial_centroids.columns += '_c'\n",
    "        \n",
    "        \n",
    "        #create key to allow for join to get cartesian product\n",
    "        self.initial_data['key']=1\n",
    "        self.initial_centroids['key']=1\n",
    "        \n",
    "        \n",
    "        self.data=self.initial_data.copy()\n",
    "        self.centroids = self.initial_centroids.copy()\n",
    "        \n",
    "    \n",
    "    def assign_centroids(self, dataframe, centroids, i):\n",
    "        #print('\\n\\nITER: '+str(i)+'\\n\\nBefore assign: \\n', self.data,'\\n', self.centroids)\n",
    "        \n",
    "        # compute euclidan distance for all combinations\n",
    "        df_tmp = dataframe.merge(centroids, how='outer')\n",
    "        df_tmp['distance_d'] = df_tmp.apply(lambda x: np.linalg.norm(\n",
    "            x[self.data.columns.values.tolist()[1:-3]].values\n",
    "            -x[self.centroids.columns.values.tolist()[1:-1]].values),axis=1)\n",
    "\n",
    "        # assign centroid that is closest to the record\n",
    "        df_tmp=df_tmp.sort_values(['id_d','distance_d']).drop_duplicates(['id_d'],keep='first')\n",
    "        print('Cluster disapeared, break. Temporary solution.', \n",
    "              df_tmp.k_d.value_counts(),self.k)\n",
    "        \n",
    "        df_tmp.reset_index(inplace=True)\n",
    "        df_tmp['k_d']=df_tmp['id_c']\n",
    "        df_tmp=df_tmp[self.data.columns.values.tolist()].copy()\n",
    "        return df_tmp\n",
    "    \n",
    "    \n",
    "    def calculate_centroids(self):\n",
    "        cols=self.centroids.columns\n",
    "        self.centroids=self.data.drop(['id_d','distance_d'], axis=1).groupby(['k_d']).agg(['mean'])\n",
    "        self.centroids.reset_index(inplace=True) \n",
    "        self.centroids.columns=cols\n",
    "    \n",
    "    \n",
    "    def initialize_clusters(self, method='random'):\n",
    "        #reset data and centroids\n",
    "        self.data=self.initial_data.copy()\n",
    "        self.centroids=self.initial_centroids.copy()\n",
    "        \n",
    "        if method == 'random':\n",
    "            while any(init_k not in self.data['k_d'].values for init_k in range(1,self.k+1)): \n",
    "                self.data['k_d']=self.data['k_d'].apply(lambda x: randint(1,self.k))\n",
    "                #print(self.data)\n",
    "            #calculate initial centroids       \n",
    "            self.calculate_centroids()\n",
    "                \n",
    "        if method == \"d2_weighting\":\n",
    "            tmp_data = self.data.copy()\n",
    "            for i in range(0,self.k):\n",
    "                if i == 0:\n",
    "                # Take one center c1, chosen uniformly at random from X .\n",
    "                    initial=randint(0,self.k)\n",
    "                    self.centroids.at[i,'x_c'] = tmp_data.at[initial,'x_d']\n",
    "                    #print(tmp_data.at[initial,'x_d'], tmp_data.at[initial,'y_d'])\n",
    "                    self.centroids.at[i,'y_c'] = tmp_data.at[initial,'y_d']        \n",
    "                    #print(self.centroids)\n",
    "                    #print(tmp_data)\n",
    "                    #print('-'*10)\n",
    "                else:\n",
    "                # Take a new center ci choosing x ∈ X with probability D(x) / sum x∈X D(x)\n",
    "                    tmp_data=self.assign_centroids(tmp_data, self.centroids.iloc[:i+1,:], i)\n",
    "                    \n",
    "                    #calculate square distance\n",
    "                    tmp_data['distance_d']=tmp_data['distance_d']**2\n",
    "                    sum_of_distance=tmp_data['distance_d'].sum()\n",
    "                    tmp_data['probability']=tmp_data['distance_d']/sum_of_distance\n",
    "                    \n",
    "                    #choose  new centroid with propability D(x) / sum  x∈X D(x)\n",
    "                    select_random=uniform(0,1)\n",
    "                    cumulant=0\n",
    "                    for j in range(tmp_data.shape[0]):\n",
    "                        cumulant = cumulant + tmp_data.at[j, 'probability']\n",
    "                        if select_random <= cumulant:\n",
    "                            self.centroids.at[i,'x_c'] = tmp_data.at[j,'x_d']\n",
    "                            self.centroids.at[i,'y_c'] = tmp_data.at[j,'y_d']\n",
    "                            break\n",
    "                    #print(select_random)        \n",
    "                    #print(self.centroids)\n",
    "                    #print(tmp_data)\n",
    "                    #print('-'*10)\n",
    "            #assign points to nearest centroids created with d2_weighting seeding\n",
    "            self.data=self.assign_centroids(self.data, self.centroids, i)\n",
    "        \n",
    "    def plot_clusters(self, dataframe, centroids, i):\n",
    "\n",
    "        #select subset of dataframe with features\n",
    "        X = dataframe.copy().drop(columns=['id_d','k_d','distance_d','key'])\n",
    "        y = dataframe['k_d'].copy().values\n",
    "        \n",
    "        X_c = centroids.copy().drop(columns=['id_c']).values\n",
    "        y_c = centroids['id_c'].copy().values\n",
    "        \n",
    "        if X.shape[1] == 2:\n",
    "            method = 'Plot'\n",
    "            X_reduced_pca = X.values\n",
    "        else:\n",
    "            method = 'PCA'\n",
    "            # calculate PCA Implementation of dim reducition\n",
    "            X_reduced_pca = PCA(n_components=2, random_state=42).fit_transform(X.values)\n",
    "\n",
    "        #print(X_reduced_pca)\n",
    "        #print(y)\n",
    "        #plotting\n",
    "        f, (ax1) = plt.subplots(1, 1, figsize=(6,6))\n",
    "        f.suptitle('Iteration ' + str(i), fontsize=14)\n",
    "\n",
    "        # scatter plot\n",
    "        ax1.scatter(X_reduced_pca[:,0], X_reduced_pca[:,1], c=y, cmap='rainbow', linewidths=4)\n",
    "        ax1.scatter(X_c[:,0], X_c[:,1], c=y_c, marker='x', s=150, cmap='rainbow', linewidths=10)\n",
    "        ax1.set_title(method, fontsize=14)\n",
    "        ax1.grid(True)\n",
    "\n",
    "        plt.show()\n",
    "        \n",
    "    \n",
    "    def Lloyd(self):\n",
    "        converged=False\n",
    "        i=0\n",
    "        while not converged:\n",
    "            \n",
    "            \n",
    "            self.plot_clusters(self.data, self.centroids, i)\n",
    "            \n",
    "            i+=1\n",
    "            #cluster assignments before iteration\n",
    "            clusters_before = self.data['k_d'].values\n",
    "            \n",
    "            #print('\\n\\nITER: '+str(i)+'\\n\\nBefore assign: \\n', self.data,'\\n', self.centroids)\n",
    "            \n",
    "            self.data=self.assign_centroids(self.data, self.centroids, i)\n",
    "            #print('\\nAfter assign: \\nDane\\n', self.data)\n",
    "            \n",
    "            #cluster assignments after iteration\n",
    "            clusters_after = self.data['k_d'].values\n",
    "            \n",
    "            #check if algorithm converged\n",
    "            #print(clusters_before,clusters_after)\n",
    "            if all(c_before == c_after for c_before, c_after in zip(clusters_before,clusters_after)):\n",
    "                converged = True\n",
    "            \n",
    "            # update centroids\n",
    "            self.calculate_centroids()\n",
    "            #print('\\nAfter calc centroids: \\nCentroidy\\n', self.centroids)\n",
    "            \n",
    "    \n",
    "    def McQuin(self):\n",
    "        converged=False\n",
    "        i=0\n",
    "        while not converged:\n",
    "            self.plot_clusters(self.data, self.centroids, i)\n",
    "            \n",
    "            i+=1            \n",
    "            #cluster assignments before iteration\n",
    "            clusters_before = self.data['k_d'].values\n",
    "            \n",
    "            #print('\\n\\nITER: '+str(i)+'\\n\\nBefore assign: \\n', self.data,'\\n', self.centroids)\n",
    "            \n",
    "            for index,row in self.data.iterrows():\n",
    "            \n",
    "                # turn row of dataframe with updated point into a dataframe\n",
    "                row = pd.DataFrame(row).T\n",
    "\n",
    "                # assign centroid to updated point\n",
    "                self.data.iloc[index,:]=self.assign_centroids(row, self.centroids, i).values[0]\n",
    "                #print('\\nAfter assign: \\nDane\\n', self.data)\n",
    "            \n",
    "                # update centroids\n",
    "                self.calculate_centroids()\n",
    "                #print('\\nAfter calc cntroids: \\nCentroidy\\n', self.centroids)\n",
    "        \n",
    "            #cluster assignments after iteration\n",
    "            clusters_after = self.data['k_d'].values\n",
    "            \n",
    "            #check if algorithm converged\n",
    "            #print(clusters_before, clusters_after)\n",
    "            if all(c_before == c_after for c_before, c_after in zip(clusters_before,clusters_after)):\n",
    "                converged = True"
   ]
  },
  {
   "cell_type": "code",
   "execution_count": 148,
   "metadata": {},
   "outputs": [],
   "source": [
    "ex4 = Kmeans(3,data)"
   ]
  },
  {
   "cell_type": "code",
   "execution_count": 149,
   "metadata": {
    "scrolled": true
   },
   "outputs": [
    {
     "name": "stdout",
     "output_type": "stream",
     "text": [
      "Cluster disapeared, break. Temporary solution. -1    6\n",
      "Name: k_d, dtype: int64 3\n",
      "Cluster disapeared, break. Temporary solution. 1    6\n",
      "Name: k_d, dtype: int64 3\n",
      "Cluster disapeared, break. Temporary solution. -1    6\n",
      "Name: k_d, dtype: int64 3\n"
     ]
    }
   ],
   "source": [
    "ex4.initialize_clusters(method='d2_weighting')"
   ]
  },
  {
   "cell_type": "code",
   "execution_count": 150,
   "metadata": {},
   "outputs": [
    {
     "data": {
      "image/png": "[encoded data removed]",
      "text/plain": [
       "<Figure size 432x432 with 1 Axes>"
      ]
     },
     "metadata": {
      "needs_background": "light"
     },
     "output_type": "display_data"
    },
    {
     "name": "stdout",
     "output_type": "stream",
     "text": [
      "Cluster disapeared, break. Temporary solution. 1    3\n",
      "3    2\n",
      "2    1\n",
      "Name: k_d, dtype: int64 3\n"
     ]
    }
   ],
   "source": [
    "ex4.Lloyd()"
   ]
  },
  {
   "cell_type": "code",
   "execution_count": 109,
   "metadata": {
    "scrolled": false
   },
   "outputs": [
    {
     "data": {
      "image/png": "[encoded data removed]",
      "text/plain": [
       "<Figure size 432x432 with 1 Axes>"
      ]
     },
     "metadata": {
      "needs_background": "light"
     },
     "output_type": "display_data"
    },
    {
     "data": {
      "image/png": "[encoded data removed]",
      "text/plain": [
       "<Figure size 432x432 with 1 Axes>"
      ]
     },
     "metadata": {
      "needs_background": "light"
     },
     "output_type": "display_data"
    }
   ],
   "source": [
    "ex4 = Kmeans(3,data)\n",
    "ex4.initialize_clusters()\n",
    "ex4.McQuin()"
   ]
  },
  {
   "cell_type": "code",
   "execution_count": null,
   "metadata": {},
   "outputs": [],
   "source": []
  },
  {
   "cell_type": "code",
   "execution_count": null,
   "metadata": {},
   "outputs": [],
   "source": []
  }
 ],
 "metadata": {
  "kernelspec": {
   "display_name": "py3env",
   "language": "python",
   "name": "py3env"
  },
  "language_info": {
   "codemirror_mode": {
    "name": "ipython",
    "version": 3
   },
   "file_extension": ".py",
   "mimetype": "text/x-python",
   "name": "python",
   "nbconvert_exporter": "python",
   "pygments_lexer": "ipython3",
   "version": "3.5.2"
  }
 },
 "nbformat": 4,
 "nbformat_minor": 2
}
